{
 "cells": [
  {
   "cell_type": "markdown",
   "id": "6310e65e-181f-41ca-84ca-187a7198f1e7",
   "metadata": {},
   "source": [
    "# Theory Questions"
   ]
  },
  {
   "cell_type": "markdown",
   "id": "cbf88d31-26ea-40e5-88ce-84500d5519c9",
   "metadata": {},
   "source": [
    "# 1) What is the difference between a function and a method in Python?"
   ]
  },
  {
   "cell_type": "markdown",
   "id": "413ecf97-62ea-44f8-a1f7-2b515a411ea1",
   "metadata": {},
   "source": [
    "A function is a block of code that performs a specific task and can be defined outside of a class. It can be called on its own.\n",
    "A method is a function that is associated with an object or a class. It is called using an object and typically works with the object's attributes."
   ]
  },
  {
   "cell_type": "code",
   "execution_count": 1,
   "id": "556842d9-eb71-4f92-a586-983963b2771f",
   "metadata": {},
   "outputs": [
    {
     "name": "stdout",
     "output_type": "stream",
     "text": [
      "Hello\n",
      "Hello\n"
     ]
    }
   ],
   "source": [
    "def greet():\n",
    "    return \"Hello\"\n",
    "\n",
    "class Person:\n",
    "    def greet(self):\n",
    "        return \"Hello\"\n",
    "\n",
    "p = Person()\n",
    "print(greet())  \n",
    "print(p.greet())  "
   ]
  },
  {
   "cell_type": "markdown",
   "id": "f179fe50-f920-4151-b2e9-f5a1652fa0f0",
   "metadata": {},
   "source": [
    "# 2) Explain the concept of function arguments and parameters in Python."
   ]
  },
  {
   "cell_type": "markdown",
   "id": "8070382b-719b-497f-a8ec-5787b353335e",
   "metadata": {},
   "source": [
    "Parameters are the variables defined in the function's signature.\n",
    "Arguments are the actual values passed to the function when it is called."
   ]
  },
  {
   "cell_type": "code",
   "execution_count": 2,
   "id": "11f24351-6ad3-4576-ab1f-5295dcfdd97d",
   "metadata": {},
   "outputs": [
    {
     "name": "stdout",
     "output_type": "stream",
     "text": [
      "8\n"
     ]
    }
   ],
   "source": [
    "def add(a, b):  \n",
    "    return a + b\n",
    "\n",
    "print(add(5, 3))  "
   ]
  },
  {
   "cell_type": "markdown",
   "id": "aa163cfb-a504-4cab-b3d8-a3a6937cc9d9",
   "metadata": {},
   "source": [
    "# 3) What are the different ways to define and call a function in Python?"
   ]
  },
  {
   "cell_type": "markdown",
   "id": "fef0f9df-7294-43e4-9734-58da9e4000f7",
   "metadata": {},
   "source": [
    "Defining a function using def keyword.\n",
    "Calling a function by using its name followed by parentheses and passing arguments if required."
   ]
  },
  {
   "cell_type": "code",
   "execution_count": 3,
   "id": "6b3e6452-240a-4c0b-8ca5-ecb0dc03e7e0",
   "metadata": {},
   "outputs": [
    {
     "name": "stdout",
     "output_type": "stream",
     "text": [
      "Hello, Vishwanath!\n"
     ]
    }
   ],
   "source": [
    "def greet(name):  \n",
    "    return f\"Hello, {name}!\"\n",
    "\n",
    "print(greet(\"Vishwanath\"))  "
   ]
  },
  {
   "cell_type": "markdown",
   "id": "641527b4-5b33-4484-8ccd-cd0552ca3e5a",
   "metadata": {},
   "source": [
    "# 4) What is the purpose of the return statement in a Python function?"
   ]
  },
  {
   "cell_type": "markdown",
   "id": "9224b0f1-fb05-4292-84a2-d12b6a0b39cf",
   "metadata": {},
   "source": [
    "The return statement allows a function to output a value back to the caller. It terminates the function and optionally passes an expression back to the caller."
   ]
  },
  {
   "cell_type": "code",
   "execution_count": 7,
   "id": "9a2ca55d-3b9b-4093-b57d-7b7746dfbcc0",
   "metadata": {},
   "outputs": [],
   "source": [
    "def square(x):\n",
    "    return x * x\n",
    "\n",
    "result = square(5)  "
   ]
  },
  {
   "cell_type": "markdown",
   "id": "2bcc21ce-84be-42da-89b9-32d22f2ff0fb",
   "metadata": {},
   "source": [
    "# 5) What are iterators in Python and how do they differ from iterables?"
   ]
  },
  {
   "cell_type": "markdown",
   "id": "d11e9a19-392f-409d-b0b5-3114516aff28",
   "metadata": {},
   "source": [
    "Iterable: An object that can be iterated over (like lists, strings, etc.).\n",
    "Iterator: An object which is used to iterate over an iterable using the next() function. Iterators are created by calling the iter() method on an iterable."
   ]
  },
  {
   "cell_type": "code",
   "execution_count": 8,
   "id": "60ab8064-7d84-4adc-a5f9-7c5f91b53601",
   "metadata": {},
   "outputs": [
    {
     "name": "stdout",
     "output_type": "stream",
     "text": [
      "1\n",
      "2\n"
     ]
    }
   ],
   "source": [
    "my_list = [1, 2, 3]  \n",
    "my_iter = iter(my_list)  \n",
    "\n",
    "print(next(my_iter))  \n",
    "print(next(my_iter))  "
   ]
  },
  {
   "cell_type": "markdown",
   "id": "e3cbff57-0713-482f-b79f-bbd34d2cddfb",
   "metadata": {},
   "source": [
    "# 6) Explain the concept of generators in Python and how they are defined."
   ]
  },
  {
   "cell_type": "markdown",
   "id": "f1afa950-57a5-4f7e-bf97-1dea46e02a7c",
   "metadata": {},
   "source": [
    "Generators are functions that return an iterator and allow you to iterate over data lazily. They are defined using the yield keyword instead of return."
   ]
  },
  {
   "cell_type": "code",
   "execution_count": 9,
   "id": "cd0e452e-bd5c-48e4-89ab-545e9bd90155",
   "metadata": {},
   "outputs": [
    {
     "name": "stdout",
     "output_type": "stream",
     "text": [
      "5\n",
      "4\n",
      "3\n",
      "2\n",
      "1\n"
     ]
    }
   ],
   "source": [
    "def countdown(n):\n",
    "    while n > 0:\n",
    "        yield n\n",
    "        n -= 1\n",
    "\n",
    "for i in countdown(5):\n",
    "    print(i)\n"
   ]
  },
  {
   "cell_type": "markdown",
   "id": "c2035a72-9683-4533-9cae-77bef6df0312",
   "metadata": {},
   "source": [
    "# 7) What are the advantages of using generators over regular functions?"
   ]
  },
  {
   "cell_type": "markdown",
   "id": "c879a7f8-f722-41b6-84ab-49906be54648",
   "metadata": {},
   "source": [
    "Memory Efficiency: Generators do not store the entire sequence in memory; they yield one item at a time.\n",
    "Lazy Evaluation: Generators compute values on the fly, making them efficient for large datasets."
   ]
  },
  {
   "cell_type": "code",
   "execution_count": 10,
   "id": "883e89af-9986-4b3e-8526-4effc28166a3",
   "metadata": {},
   "outputs": [
    {
     "name": "stdout",
     "output_type": "stream",
     "text": [
      "[0, 1, 4, 9, 16]\n"
     ]
    }
   ],
   "source": [
    "def squares_gen(n):\n",
    "    for i in range(n):\n",
    "        yield i * i\n",
    "\n",
    "gen = squares_gen(5)\n",
    "print(list(gen))  "
   ]
  },
  {
   "cell_type": "markdown",
   "id": "8b685275-f2f9-4d4b-8bca-60d8c5dd4498",
   "metadata": {},
   "source": [
    "# 8) What is a lambda function in Python and when is it typically used?"
   ]
  },
  {
   "cell_type": "markdown",
   "id": "3717b649-bcf6-4ee9-9051-25e9db14d904",
   "metadata": {},
   "source": [
    "A lambda function is an anonymous function defined using the lambda keyword. It is used for short, simple functions and is often passed as an argument to functions like map(), filter(), etc."
   ]
  },
  {
   "cell_type": "code",
   "execution_count": 11,
   "id": "c37b11fa-0cbf-4e73-8d0e-59261f66444f",
   "metadata": {},
   "outputs": [
    {
     "name": "stdout",
     "output_type": "stream",
     "text": [
      "25\n"
     ]
    }
   ],
   "source": [
    "square = lambda x: x * x\n",
    "print(square(5))  "
   ]
  },
  {
   "cell_type": "markdown",
   "id": "2f7ac65f-fabb-4804-bbe4-8eb8ab61bea2",
   "metadata": {},
   "source": [
    "# 9) Explain the purpose and usage of the map() function in Python."
   ]
  },
  {
   "cell_type": "code",
   "execution_count": 12,
   "id": "34661e69-40ab-42e3-8e1b-a48f03c70577",
   "metadata": {},
   "outputs": [
    {
     "name": "stdout",
     "output_type": "stream",
     "text": [
      "[1, 4, 9, 16]\n"
     ]
    }
   ],
   "source": [
    "numbers = [1, 2, 3, 4]\n",
    "squared_numbers = map(lambda x: x * x, numbers)\n",
    "print(list(squared_numbers))  "
   ]
  },
  {
   "cell_type": "markdown",
   "id": "1989fb89-739a-46c1-8d85-4913e0bdebeb",
   "metadata": {},
   "source": [
    "# 10) What is the difference between map(), reduce(), and filter() functions in Python?"
   ]
  },
  {
   "cell_type": "markdown",
   "id": "66f743b2-42ac-4896-a4b9-ae544b15bbc1",
   "metadata": {},
   "source": [
    "map(): Applies a function to every item of an iterable and returns an iterator of the results.\n",
    "filter(): Filters items in an iterable based on a function that returns True or False.\n",
    "reduce(): Applies a function cumulatively to items of an iterable, reducing it to a single value (requires importing from functools)."
   ]
  },
  {
   "cell_type": "code",
   "execution_count": 13,
   "id": "1d26652e-96b6-4eb6-b632-232cd4cbf108",
   "metadata": {},
   "outputs": [
    {
     "name": "stdout",
     "output_type": "stream",
     "text": [
      "[1, 4, 9, 16]\n",
      "[2, 4]\n",
      "10\n"
     ]
    }
   ],
   "source": [
    "from functools import reduce\n",
    "\n",
    "numbers = [1, 2, 3, 4]\n",
    "\n",
    "squared = map(lambda x: x * x, numbers)\n",
    "\n",
    "evens = filter(lambda x: x % 2 == 0, numbers)\n",
    "\n",
    "sum_of_numbers = reduce(lambda x, y: x + y, numbers)\n",
    "\n",
    "print(list(squared))  \n",
    "print(list(evens))    \n",
    "print(sum_of_numbers) "
   ]
  },
  {
   "cell_type": "markdown",
   "id": "aace2532-3ef8-459a-81cc-9347c190e420",
   "metadata": {},
   "source": [
    "# Practical Questions"
   ]
  },
  {
   "cell_type": "markdown",
   "id": "fd97afef-ef30-4a29-8a53-99a1cf717c30",
   "metadata": {},
   "source": [
    "# 1) Sum of all even numbers in a list:"
   ]
  },
  {
   "cell_type": "code",
   "execution_count": 14,
   "id": "82e1b31a-ba5d-4fa2-a2a7-e2beee15b6b0",
   "metadata": {},
   "outputs": [
    {
     "name": "stdout",
     "output_type": "stream",
     "text": [
      "6\n"
     ]
    }
   ],
   "source": [
    "def sum_even_numbers(lst):\n",
    "    return sum([num for num in lst if num % 2 == 0])\n",
    "\n",
    "print(sum_even_numbers([1, 2, 3, 4, 5])) "
   ]
  },
  {
   "cell_type": "markdown",
   "id": "0c7de256-ac89-4e91-b38f-75b87312e22d",
   "metadata": {},
   "source": [
    "# 2) Reverse a string:"
   ]
  },
  {
   "cell_type": "code",
   "execution_count": 15,
   "id": "654f9379-3d43-4aca-b0f6-b7a17c5ec033",
   "metadata": {},
   "outputs": [
    {
     "name": "stdout",
     "output_type": "stream",
     "text": [
      "olleh\n"
     ]
    }
   ],
   "source": [
    "def reverse_string(s):\n",
    "    return s[::-1]\n",
    "\n",
    "print(reverse_string(\"hello\"))  "
   ]
  },
  {
   "cell_type": "markdown",
   "id": "4d0445ca-23bc-47e9-8f4c-99de9d5da3bd",
   "metadata": {},
   "source": [
    "# 3) Square each number in a list:"
   ]
  },
  {
   "cell_type": "code",
   "execution_count": 16,
   "id": "35f24795-a487-4d9e-9164-ca79bbbe3ef1",
   "metadata": {},
   "outputs": [
    {
     "name": "stdout",
     "output_type": "stream",
     "text": [
      "[1, 4, 9, 16]\n"
     ]
    }
   ],
   "source": [
    "def square_list(lst):\n",
    "    return [num * num for num in lst]\n",
    "\n",
    "print(square_list([1, 2, 3, 4]))  "
   ]
  },
  {
   "cell_type": "markdown",
   "id": "0bd5ed1a-d256-4c42-8e50-0a7048589077",
   "metadata": {},
   "source": [
    "# 4) Check if a number is prime from 1 to 200:"
   ]
  },
  {
   "cell_type": "code",
   "execution_count": 17,
   "id": "ecaeb1c9-205c-4819-8221-11d7b81b6329",
   "metadata": {},
   "outputs": [
    {
     "name": "stdout",
     "output_type": "stream",
     "text": [
      "[2, 3, 5, 7, 11, 13, 17, 19, 23, 29, 31, 37, 41, 43, 47, 53, 59, 61, 67, 71, 73, 79, 83, 89, 97, 101, 103, 107, 109, 113, 127, 131, 137, 139, 149, 151, 157, 163, 167, 173, 179, 181, 191, 193, 197, 199]\n"
     ]
    }
   ],
   "source": [
    "def is_prime(n):\n",
    "    if n <= 1:\n",
    "        return False\n",
    "    for i in range(2, int(n ** 0.5) + 1):\n",
    "        if n % i == 0:\n",
    "            return False\n",
    "    return True\n",
    "\n",
    "primes = [n for n in range(1, 201) if is_prime(n)]\n",
    "print(primes)"
   ]
  },
  {
   "cell_type": "markdown",
   "id": "8f228192-7b35-4a68-92c8-ee325ffcb4e0",
   "metadata": {},
   "source": [
    "# 5) Iterator class for Fibonacci sequence:"
   ]
  },
  {
   "cell_type": "code",
   "execution_count": 18,
   "id": "d22ef345-f818-4362-8f99-b6af87014f35",
   "metadata": {},
   "outputs": [
    {
     "name": "stdout",
     "output_type": "stream",
     "text": [
      "0\n",
      "1\n",
      "1\n",
      "2\n",
      "3\n"
     ]
    }
   ],
   "source": [
    "class Fibonacci:\n",
    "    def __init__(self, terms):\n",
    "        self.terms = terms\n",
    "        self.a, self.b = 0, 1\n",
    "        self.count = 0\n",
    "\n",
    "    def __iter__(self):\n",
    "        return self\n",
    "\n",
    "    def __next__(self):\n",
    "        if self.count >= self.terms:\n",
    "            raise StopIteration\n",
    "        self.count += 1\n",
    "        fib = self.a\n",
    "        self.a, self.b = self.b, self.a + self.b\n",
    "        return fib\n",
    "\n",
    "fib = Fibonacci(5)\n",
    "for num in fib:\n",
    "    print(num)"
   ]
  },
  {
   "cell_type": "markdown",
   "id": "6f9cb651-cc60-470f-ab04-415d5980fc55",
   "metadata": {},
   "source": [
    "# 6) Generator for powers of 2:"
   ]
  },
  {
   "cell_type": "code",
   "execution_count": 19,
   "id": "6eafa86c-34b2-4954-8721-2cfc37071941",
   "metadata": {},
   "outputs": [
    {
     "name": "stdout",
     "output_type": "stream",
     "text": [
      "1\n",
      "2\n",
      "4\n",
      "8\n",
      "16\n",
      "32\n"
     ]
    }
   ],
   "source": [
    "def powers_of_two(max_exponent):\n",
    "    for n in range(max_exponent + 1):\n",
    "        yield 2 ** n\n",
    "\n",
    "for num in powers_of_two(5):\n",
    "    print(num)"
   ]
  },
  {
   "cell_type": "markdown",
   "id": "a0d3993e-1bf2-40c4-b157-bf982a697a6a",
   "metadata": {},
   "source": [
    "# 7) Generator that reads a file line by line:"
   ]
  },
  {
   "cell_type": "code",
   "execution_count": 3,
   "id": "f423ba00-209a-49c0-9af9-4effe1e18269",
   "metadata": {},
   "outputs": [
    {
     "ename": "FileNotFoundError",
     "evalue": "[Errno 2] No such file or directory: 'example.txt'",
     "output_type": "error",
     "traceback": [
      "\u001b[0;31m---------------------------------------------------------------------------\u001b[0m",
      "\u001b[0;31mFileNotFoundError\u001b[0m                         Traceback (most recent call last)",
      "Cell \u001b[0;32mIn[3], line 6\u001b[0m\n\u001b[1;32m      3\u001b[0m         \u001b[38;5;28;01mfor\u001b[39;00m line \u001b[38;5;129;01min\u001b[39;00m f:\n\u001b[1;32m      4\u001b[0m             \u001b[38;5;28;01myield\u001b[39;00m line\u001b[38;5;241m.\u001b[39mstrip()\n\u001b[0;32m----> 6\u001b[0m \u001b[38;5;28;01mfor\u001b[39;00m line \u001b[38;5;129;01min\u001b[39;00m read_file_line_by_line(\u001b[38;5;124m'\u001b[39m\u001b[38;5;124mexample.txt\u001b[39m\u001b[38;5;124m'\u001b[39m):\n\u001b[1;32m      7\u001b[0m     \u001b[38;5;28mprint\u001b[39m(line)\n",
      "Cell \u001b[0;32mIn[3], line 2\u001b[0m, in \u001b[0;36mread_file_line_by_line\u001b[0;34m(file_path)\u001b[0m\n\u001b[1;32m      1\u001b[0m \u001b[38;5;28;01mdef\u001b[39;00m \u001b[38;5;21mread_file_line_by_line\u001b[39m(file_path):\n\u001b[0;32m----> 2\u001b[0m     \u001b[38;5;28;01mwith\u001b[39;00m \u001b[38;5;28;43mopen\u001b[39;49m\u001b[43m(\u001b[49m\u001b[43mfile_path\u001b[49m\u001b[43m,\u001b[49m\u001b[43m \u001b[49m\u001b[38;5;124;43m'\u001b[39;49m\u001b[38;5;124;43mr\u001b[39;49m\u001b[38;5;124;43m'\u001b[39;49m\u001b[43m)\u001b[49m \u001b[38;5;28;01mas\u001b[39;00m f:\n\u001b[1;32m      3\u001b[0m         \u001b[38;5;28;01mfor\u001b[39;00m line \u001b[38;5;129;01min\u001b[39;00m f:\n\u001b[1;32m      4\u001b[0m             \u001b[38;5;28;01myield\u001b[39;00m line\u001b[38;5;241m.\u001b[39mstrip()\n",
      "File \u001b[0;32m/opt/conda/lib/python3.10/site-packages/IPython/core/interactiveshell.py:282\u001b[0m, in \u001b[0;36m_modified_open\u001b[0;34m(file, *args, **kwargs)\u001b[0m\n\u001b[1;32m    275\u001b[0m \u001b[38;5;28;01mif\u001b[39;00m file \u001b[38;5;129;01min\u001b[39;00m {\u001b[38;5;241m0\u001b[39m, \u001b[38;5;241m1\u001b[39m, \u001b[38;5;241m2\u001b[39m}:\n\u001b[1;32m    276\u001b[0m     \u001b[38;5;28;01mraise\u001b[39;00m \u001b[38;5;167;01mValueError\u001b[39;00m(\n\u001b[1;32m    277\u001b[0m         \u001b[38;5;124mf\u001b[39m\u001b[38;5;124m\"\u001b[39m\u001b[38;5;124mIPython won\u001b[39m\u001b[38;5;124m'\u001b[39m\u001b[38;5;124mt let you open fd=\u001b[39m\u001b[38;5;132;01m{\u001b[39;00mfile\u001b[38;5;132;01m}\u001b[39;00m\u001b[38;5;124m by default \u001b[39m\u001b[38;5;124m\"\u001b[39m\n\u001b[1;32m    278\u001b[0m         \u001b[38;5;124m\"\u001b[39m\u001b[38;5;124mas it is likely to crash IPython. If you know what you are doing, \u001b[39m\u001b[38;5;124m\"\u001b[39m\n\u001b[1;32m    279\u001b[0m         \u001b[38;5;124m\"\u001b[39m\u001b[38;5;124myou can use builtins\u001b[39m\u001b[38;5;124m'\u001b[39m\u001b[38;5;124m open.\u001b[39m\u001b[38;5;124m\"\u001b[39m\n\u001b[1;32m    280\u001b[0m     )\n\u001b[0;32m--> 282\u001b[0m \u001b[38;5;28;01mreturn\u001b[39;00m \u001b[43mio_open\u001b[49m\u001b[43m(\u001b[49m\u001b[43mfile\u001b[49m\u001b[43m,\u001b[49m\u001b[43m \u001b[49m\u001b[38;5;241;43m*\u001b[39;49m\u001b[43margs\u001b[49m\u001b[43m,\u001b[49m\u001b[43m \u001b[49m\u001b[38;5;241;43m*\u001b[39;49m\u001b[38;5;241;43m*\u001b[39;49m\u001b[43mkwargs\u001b[49m\u001b[43m)\u001b[49m\n",
      "\u001b[0;31mFileNotFoundError\u001b[0m: [Errno 2] No such file or directory: 'example.txt'"
     ]
    }
   ],
   "source": [
    "def read_file_line_by_line(file_path):\n",
    "    with open(file_path, 'r') as f:\n",
    "        for line in f:\n",
    "            yield line.strip()\n",
    "\n",
    "for line in read_file_line_by_line('example.txt'):\n",
    "    print(line)\n",
    "    "
   ]
  },
  {
   "cell_type": "markdown",
   "id": "c0b0db0a-2c0c-499c-8266-a294c13ddeeb",
   "metadata": {},
   "source": [
    "# 8) Sort a list of tuples using a lambda function:"
   ]
  },
  {
   "cell_type": "code",
   "execution_count": 22,
   "id": "c8511318-5ff8-452f-91df-156b6e95fa95",
   "metadata": {},
   "outputs": [
    {
     "name": "stdout",
     "output_type": "stream",
     "text": [
      "[(4, 2), (1, 3), (3, 5)]\n"
     ]
    }
   ],
   "source": [
    "tuples_list = [(1, 3), (4, 2), (3, 5)]\n",
    "sorted_list = sorted(tuples_list, key=lambda x: x[1])\n",
    "print(sorted_list)  "
   ]
  },
  {
   "cell_type": "markdown",
   "id": "c150f426-605c-407f-9afb-57e2718f9762",
   "metadata": {},
   "source": [
    "# 9) Convert Celsius to Fahrenheit using map():"
   ]
  },
  {
   "cell_type": "code",
   "execution_count": 23,
   "id": "3f0e8d85-2b1b-4ae6-8470-2b5b15725746",
   "metadata": {},
   "outputs": [
    {
     "name": "stdout",
     "output_type": "stream",
     "text": [
      "[32.0, 68.0, 86.0, 104.0]\n"
     ]
    }
   ],
   "source": [
    "def celsius_to_fahrenheit(celsius):\n",
    "    return (celsius * 9/5) + 32\n",
    "\n",
    "celsius_list = [0, 20, 30, 40]\n",
    "fahrenheit_list = list(map(celsius_to_fahrenheit, celsius_list))\n",
    "print(fahrenheit_list)  "
   ]
  },
  {
   "cell_type": "markdown",
   "id": "5230a9ce-28dd-4aea-a73e-fb023e29f7c6",
   "metadata": {},
   "source": [
    "# 10) 10. Create a Python program that uses `filter()` to remove all the vowels from a given string."
   ]
  },
  {
   "cell_type": "markdown",
   "id": "224dfa08-b5f0-401c-9c8e-e5c80df38f15",
   "metadata": {},
   "source": [
    "The filter() function is used to iterate over each character in the input_string.\n",
    "The lambda function checks if each character is not a vowel by ensuring it's not in the vowels string.\n",
    "The filtered result is then joined back into a string using ''.join()."
   ]
  },
  {
   "cell_type": "code",
   "execution_count": 24,
   "id": "8f3212c9-0f67-47d8-ad6f-f9d97d9cd7c5",
   "metadata": {},
   "outputs": [
    {
     "name": "stdout",
     "output_type": "stream",
     "text": [
      "Hll, Wrld!\n"
     ]
    }
   ],
   "source": [
    "def remove_vowels(input_string):\n",
    "    vowels = 'aeiouAEIOU'\n",
    "    return ''.join(filter(lambda char: char not in vowels, input_string))\n",
    "\n",
    "string = \"Hello, World!\"\n",
    "result = remove_vowels(string)\n",
    "print(result)  "
   ]
  },
  {
   "cell_type": "markdown",
   "id": "e55f556b-65ad-430a-95ef-d3f4867496c5",
   "metadata": {},
   "source": [
    "# 11)"
   ]
  },
  {
   "cell_type": "code",
   "execution_count": 2,
   "id": "31add70a-1733-4023-aab6-3f794887a902",
   "metadata": {},
   "outputs": [
    {
     "name": "stdout",
     "output_type": "stream",
     "text": [
      "[(34587, 163.8), (98762, 284.0), (77226, 108.85), (88112, 84.97)]\n"
     ]
    }
   ],
   "source": [
    "orders = [\n",
    "    [34587, \"Learning Python, Mark Lutz\", 4, 40.95],\n",
    "    [98762, \"Programming Python, Mark Lutz\", 5, 56.80],\n",
    "    [77226, \"Head First Python, Paul Barry\", 3, 32.95],\n",
    "    [88112, \"Einführung in Python3, Bernd Klein\", 3, 24.99]\n",
    "]\n",
    "\n",
    "calculate_total = lambda order: (order[0], round(order[2] * order[3] + (10 if order[2] * order[3] < 100 else 0), 2))\n",
    "\n",
    "result = list(map(calculate_total, orders))\n",
    "\n",
    "print(result)"
   ]
  },
  {
   "cell_type": "markdown",
   "id": "f45bf60f-154d-4611-9ef2-2f92fbf9b3d8",
   "metadata": {},
   "source": [
    "orders is a list of sublists where each sublist represents an order.\n",
    "calculate_total is a lambda function that takes an order and calculates the total price (quantity × price per item). If the total is less than 100, an additional 10 is added.\n",
    "map(calculate_total, orders) applies the lambda function to each order and returns a list of 2-tuples (order number, total price).\n",
    "round(..., 2) ensures the total price is rounded to two decimal places."
   ]
  }
 ],
 "metadata": {
  "kernelspec": {
   "display_name": "Python 3 (ipykernel)",
   "language": "python",
   "name": "python3"
  },
  "language_info": {
   "codemirror_mode": {
    "name": "ipython",
    "version": 3
   },
   "file_extension": ".py",
   "mimetype": "text/x-python",
   "name": "python",
   "nbconvert_exporter": "python",
   "pygments_lexer": "ipython3",
   "version": "3.10.8"
  }
 },
 "nbformat": 4,
 "nbformat_minor": 5
}
